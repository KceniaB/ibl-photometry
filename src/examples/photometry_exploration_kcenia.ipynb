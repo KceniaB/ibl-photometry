{
 "cells": [
  {
   "cell_type": "code",
   "execution_count": 1,
   "metadata": {},
   "outputs": [],
   "source": [
    "# just here\n",
    "%load_ext autoreload\n",
    "%autoreload 2"
   ]
  },
  {
   "cell_type": "code",
   "execution_count": 2,
   "metadata": {},
   "outputs": [],
   "source": [
    "# imports\n",
    "from copy import copy\n",
    "import numpy as np\n",
    "import pandas as pd\n",
    "import pynapple as nap\n",
    "import matplotlib.pyplot as plt\n",
    "import iblphotometry.loaders as loaders\n",
    "import iblphotometry.plots as plots"
   ]
  },
  {
   "cell_type": "code",
   "execution_count": null,
   "metadata": {},
   "outputs": [],
   "source": [
    "# KCENIA / isosbestic specific\n",
    "from one.api import ONE\n",
    "one = ONE(cache_dir='/mnt/h0/kb/data/one')\n",
    "data_loader = loaders.KceniaLoader(one, verbose=True)\n",
    "df = pd.read_csv('/home/georg/code/ibl-photometry/src/local/website.csv')\n",
    "eids = list(df['eid']) # <- debug"
   ]
  },
  {
   "cell_type": "code",
   "execution_count": 12,
   "metadata": {},
   "outputs": [
    {
     "ename": "IndexError",
     "evalue": "list index out of range",
     "output_type": "error",
     "traceback": [
      "\u001b[0;31m---------------------------------------------------------------------------\u001b[0m",
      "\u001b[0;31mIndexError\u001b[0m                                Traceback (most recent call last)",
      "Cell \u001b[0;32mIn[12], line 2\u001b[0m\n\u001b[1;32m      1\u001b[0m \u001b[38;5;66;03m# pid, pname = data_loader.eid2pid(eids[14])\u001b[39;00m\n\u001b[0;32m----> 2\u001b[0m raw_photometry, brain_regions \u001b[38;5;241m=\u001b[39m data_loader\u001b[38;5;241m.\u001b[39mload_photometry_data(\u001b[43meids\u001b[49m\u001b[43m[\u001b[49m\u001b[38;5;241;43m31\u001b[39;49m\u001b[43m]\u001b[49m, return_regions\u001b[38;5;241m=\u001b[39m\u001b[38;5;28;01mTrue\u001b[39;00m)\n\u001b[1;32m      3\u001b[0m \u001b[38;5;66;03m# raw_photometry['raw_calcium']\u001b[39;00m\n\u001b[1;32m      4\u001b[0m raw_photometry\n",
      "\u001b[0;31mIndexError\u001b[0m: list index out of range"
     ]
    }
   ],
   "source": [
    "# pid, pname = data_loader.eid2pid(eids[14])\n",
    "raw_photometry, brain_regions = data_loader.load_photometry_data(eids[31], return_regions=True)\n",
    "# raw_photometry['raw_calcium']\n",
    "raw_photometry\n",
    "# plots.plot_isosbestic_overview(raw_photometry['raw_calcium'], raw_photometry['raw_isosbestic'])"
   ]
  },
  {
   "cell_type": "code",
   "execution_count": 5,
   "metadata": {},
   "outputs": [
    {
     "ename": "AttributeError",
     "evalue": "'str' object has no attribute 'values'",
     "output_type": "error",
     "traceback": [
      "\u001b[0;31m---------------------------------------------------------------------------\u001b[0m",
      "\u001b[0;31mAttributeError\u001b[0m                            Traceback (most recent call last)",
      "Cell \u001b[0;32mIn[5], line 21\u001b[0m\n\u001b[1;32m      7\u001b[0m pipeline \u001b[38;5;241m=\u001b[39m [\n\u001b[1;32m      8\u001b[0m       (remove_spikes, \u001b[38;5;28mdict\u001b[39m(sd\u001b[38;5;241m=\u001b[39m\u001b[38;5;241m5\u001b[39m)),\n\u001b[1;32m      9\u001b[0m       \u001b[38;5;66;03m# (lowpass_bleachcorrect, dict(filter_params=dict(N=3, Wn=0.01, btype='lowpass'))),\u001b[39;00m\n\u001b[0;32m   (...)\u001b[0m\n\u001b[1;32m     17\u001b[0m \n\u001b[1;32m     18\u001b[0m ]\n\u001b[1;32m     20\u001b[0m \u001b[38;5;66;03m# run pipeline\u001b[39;00m\n\u001b[0;32m---> 21\u001b[0m photometry \u001b[38;5;241m=\u001b[39m \u001b[43mrun_pipeline\u001b[49m\u001b[43m(\u001b[49m\u001b[43mraw_photometry\u001b[49m\u001b[43m,\u001b[49m\u001b[43m \u001b[49m\u001b[43mpipeline\u001b[49m\u001b[43m)\u001b[49m\n\u001b[1;32m     22\u001b[0m plots\u001b[38;5;241m.\u001b[39mplot_Tsd(photometry)\n",
      "File \u001b[0;32m~/code/ibl-photometry/src/iblphotometry/pipelines.py:32\u001b[0m, in \u001b[0;36mrun_pipeline\u001b[0;34m(F, pipeline)\u001b[0m\n\u001b[1;32m     29\u001b[0m         \u001b[38;5;28;01mif\u001b[39;00m \u001b[38;5;124m'\u001b[39m\u001b[38;5;124mon_columns\u001b[39m\u001b[38;5;124m'\u001b[39m \u001b[38;5;129;01min\u001b[39;00m pipe_args:\n\u001b[1;32m     30\u001b[0m             \u001b[38;5;66;03m# make sure the entry is gone so it can't be passed on\u001b[39;00m\n\u001b[1;32m     31\u001b[0m             \u001b[38;5;28;01mdel\u001b[39;00m pipe_args[\u001b[38;5;124m'\u001b[39m\u001b[38;5;124mon_columns\u001b[39m\u001b[38;5;124m'\u001b[39m]\n\u001b[0;32m---> 32\u001b[0m         Fc \u001b[38;5;241m=\u001b[39m \u001b[43mpipe_func\u001b[49m\u001b[43m(\u001b[49m\u001b[43mFc\u001b[49m\u001b[43m,\u001b[49m\u001b[43m \u001b[49m\u001b[38;5;241;43m*\u001b[39;49m\u001b[38;5;241;43m*\u001b[39;49m\u001b[43mpipe_args\u001b[49m\u001b[43m)\u001b[49m\n\u001b[1;32m     33\u001b[0m \u001b[38;5;28;01mreturn\u001b[39;00m Fc\n",
      "File \u001b[0;32m~/code/ibl-photometry/src/iblphotometry/outlier_detection.py:109\u001b[0m, in \u001b[0;36mremove_spikes\u001b[0;34m(F, sd, w)\u001b[0m\n\u001b[1;32m    108\u001b[0m \u001b[38;5;28;01mdef\u001b[39;00m \u001b[38;5;21mremove_spikes\u001b[39m(F: nap\u001b[38;5;241m.\u001b[39mTsd, sd: \u001b[38;5;28mint\u001b[39m \u001b[38;5;241m=\u001b[39m \u001b[38;5;241m5\u001b[39m, w: \u001b[38;5;28mint\u001b[39m \u001b[38;5;241m=\u001b[39m \u001b[38;5;241m25\u001b[39m):\n\u001b[0;32m--> 109\u001b[0m     y, t \u001b[38;5;241m=\u001b[39m \u001b[43mF\u001b[49m\u001b[38;5;241;43m.\u001b[39;49m\u001b[43mvalues\u001b[49m, F\u001b[38;5;241m.\u001b[39mtimes()\n\u001b[1;32m    110\u001b[0m     y \u001b[38;5;241m=\u001b[39m copy(y)\n\u001b[1;32m    111\u001b[0m     outliers \u001b[38;5;241m=\u001b[39m detect_spikes(y, sd\u001b[38;5;241m=\u001b[39msd)\n",
      "\u001b[0;31mAttributeError\u001b[0m: 'str' object has no attribute 'values'"
     ]
    }
   ],
   "source": [
    "from iblphotometry.outlier_detection import remove_spikes\n",
    "from iblphotometry.bleach_corrections import lowpass_bleachcorrect\n",
    "from iblphotometry.bleach_corrections import isosbestic_correct\n",
    "from iblphotometry.sliding_operations import sliding_mad\n",
    "from iblphotometry.pipelines import run_pipeline\n",
    "\n",
    "pipeline = [\n",
    "      (remove_spikes, dict(sd=5)),\n",
    "      # (lowpass_bleachcorrect, dict(filter_params=dict(N=3, Wn=0.01, btype='lowpass'))),\n",
    "      (isosbestic_correct, dict(on_columns=False,\n",
    "                                signal_name='raw_calcium',\n",
    "                                reference_name='raw_isosbestic',\n",
    "                                correction_method='subtract-divide',\n",
    "                              #   regression_method='huber',\n",
    "                                lowpass_isosbestic=dict(N=3, Wn=0.01, btype='lowpass')),),\n",
    "      # (sliding_mad, dict(w_len=120,overlap=90)),\n",
    "\n",
    "]\n",
    "\n",
    "# run pipeline\n",
    "photometry = run_pipeline(raw_photometry, pipeline)\n",
    "plots.plot_Tsd(photometry)"
   ]
  },
  {
   "cell_type": "code",
   "execution_count": null,
   "metadata": {},
   "outputs": [],
   "source": []
  },
  {
   "cell_type": "code",
   "execution_count": null,
   "metadata": {},
   "outputs": [],
   "source": [
    "# from iblphotometry.bleach_corrections import IsosbesticCorrection\n",
    "# iso = IsosbesticCorrection()\n",
    "# tsd = iso.correct(raw_photometry['raw_isosbestic'], raw_photometry['raw_calcium'])\n",
    "raw_photometry = data_loader.load_photometry_data(pid=pid[0])\n",
    "# plt.plot(raw_photometry['raw_isosbestic'])\n",
    "raw_photometry = data_loader.load_photometry_data(pid=pid[0])\n",
    "plt.plot(raw_photometry['raw_isosbestic'].d, raw_photometry['raw_calcium'].d,'.')"
   ]
  },
  {
   "cell_type": "code",
   "execution_count": null,
   "metadata": {},
   "outputs": [],
   "source": []
  }
 ],
 "metadata": {
  "kernelspec": {
   "display_name": "ibl",
   "language": "python",
   "name": "python3"
  },
  "language_info": {
   "codemirror_mode": {
    "name": "ipython",
    "version": 3
   },
   "file_extension": ".py",
   "mimetype": "text/x-python",
   "name": "python",
   "nbconvert_exporter": "python",
   "pygments_lexer": "ipython3",
   "version": "3.12.7"
  }
 },
 "nbformat": 4,
 "nbformat_minor": 2
}
