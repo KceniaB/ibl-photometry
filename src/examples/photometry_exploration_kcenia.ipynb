{
 "cells": [
  {
   "cell_type": "code",
   "execution_count": 1,
   "metadata": {},
   "outputs": [],
   "source": [
    "# just here\n",
    "%load_ext autoreload\n",
    "%autoreload 2"
   ]
  },
  {
   "cell_type": "code",
   "execution_count": 2,
   "metadata": {},
   "outputs": [],
   "source": [
    "# imports\n",
    "from copy import copy\n",
    "import numpy as np\n",
    "import pandas as pd\n",
    "import pynapple as nap\n",
    "import matplotlib.pyplot as plt\n",
    "import iblphotometry.loaders as loaders\n",
    "import iblphotometry.plots as plots"
   ]
  },
  {
   "cell_type": "code",
   "execution_count": null,
   "metadata": {},
   "outputs": [],
   "source": [
    "# KCENIA / isosbestic specific\n",
    "from one.api import ONE\n",
    "one = ONE(cache_dir='/mnt/h0/kb/data/one')\n",
    "data_loader = loaders.KceniaLoader(one)\n",
    "df = pd.read_csv('/home/georg/code/ibl-photometry/src/local/website.csv')\n",
    "eids = list(df['eid'])[:20]  # <- debug"
   ]
  },
  {
   "cell_type": "code",
   "execution_count": null,
   "metadata": {},
   "outputs": [],
   "source": [
    "pid, pname = data_loader.eid2pid(eids[14])\n",
    "raw_photometry = data_loader.load_photometry_data(pid=pid[0])\n",
    "plots.plot_isosbestic_overview(raw_photometry['raw_calcium'], raw_photometry['raw_isosbestic'])"
   ]
  },
  {
   "cell_type": "code",
   "execution_count": null,
   "metadata": {},
   "outputs": [],
   "source": [
    "from iblphotometry.outlier_detection import remove_spikes\n",
    "from iblphotometry.bleach_corrections import lowpass_bleachcorrect\n",
    "from iblphotometry.bleach_corrections import isosbestic_correct\n",
    "from iblphotometry.sliding_operations import sliding_mad\n",
    "from iblphotometry.pipelines import run_pipeline\n",
    "\n",
    "pipeline = [\n",
    "      (remove_spikes, dict(sd=5)),\n",
    "      # (lowpass_bleachcorrect, dict(filter_params=dict(N=3, Wn=0.01, btype='lowpass'))),\n",
    "      (isosbestic_correct, dict(on_columns=False,\n",
    "                                signal_name='raw_calcium',\n",
    "                                reference_name='raw_isosbestic',\n",
    "                                correction_method='subtract-divide',\n",
    "                              #   regression_method='huber',\n",
    "                                lowpass_isosbestic=dict(N=3, Wn=0.01, btype='lowpass')),),\n",
    "      # (sliding_mad, dict(w_len=120,overlap=90)),\n",
    "\n",
    "]\n",
    "\n",
    "# run pipeline\n",
    "photometry = run_pipeline(raw_photometry, pipeline)\n",
    "plots.plot_Tsd(photometry)"
   ]
  },
  {
   "cell_type": "code",
   "execution_count": null,
   "metadata": {},
   "outputs": [],
   "source": []
  },
  {
   "cell_type": "code",
   "execution_count": null,
   "metadata": {},
   "outputs": [],
   "source": [
    "# from iblphotometry.bleach_corrections import IsosbesticCorrection\n",
    "# iso = IsosbesticCorrection()\n",
    "# tsd = iso.correct(raw_photometry['raw_isosbestic'], raw_photometry['raw_calcium'])\n",
    "raw_photometry = data_loader.load_photometry_data(pid=pid[0])\n",
    "# plt.plot(raw_photometry['raw_isosbestic'])\n",
    "raw_photometry = data_loader.load_photometry_data(pid=pid[0])\n",
    "plt.plot(raw_photometry['raw_isosbestic'].d, raw_photometry['raw_calcium'].d,'.')"
   ]
  },
  {
   "cell_type": "code",
   "execution_count": null,
   "metadata": {},
   "outputs": [],
   "source": []
  }
 ],
 "metadata": {
  "kernelspec": {
   "display_name": "ibl",
   "language": "python",
   "name": "python3"
  },
  "language_info": {
   "codemirror_mode": {
    "name": "ipython",
    "version": 3
   },
   "file_extension": ".py",
   "mimetype": "text/x-python",
   "name": "python",
   "nbconvert_exporter": "python",
   "pygments_lexer": "ipython3",
   "version": "3.12.7"
  }
 },
 "nbformat": 4,
 "nbformat_minor": 2
}
