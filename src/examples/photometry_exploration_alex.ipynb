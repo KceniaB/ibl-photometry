{
 "cells": [
  {
   "cell_type": "code",
   "execution_count": 1,
   "metadata": {},
   "outputs": [],
   "source": [
    "# just here\n",
    "%load_ext autoreload\n",
    "%autoreload 2"
   ]
  },
  {
   "cell_type": "code",
   "execution_count": 2,
   "metadata": {},
   "outputs": [],
   "source": [
    "# imports\n",
    "from copy import copy\n",
    "import numpy as np\n",
    "import pandas as pd\n",
    "import pynapple as nap\n",
    "import matplotlib.pyplot as plt\n",
    "import iblphotometry.loaders as loaders\n",
    "import iblphotometry.plots as plots"
   ]
  },
  {
   "cell_type": "code",
   "execution_count": null,
   "metadata": {},
   "outputs": [],
   "source": [
    "# ONE instantiation\n",
    "from one.api import ONE\n",
    "one = ONE(base_url=\"https://alyx.internationalbrainlab.org\", mode='remote')"
   ]
  },
  {
   "cell_type": "code",
   "execution_count": null,
   "metadata": {},
   "outputs": [],
   "source": [
    "# load data via data_loader\n",
    "eids = one.search(dataset='photometry.signal.pqt', lab='wittenlab')\n",
    "eid = eids[2]\n",
    "\n",
    "data_loader = loaders.PhotometryLoader(one)\n",
    "raw_photometry = data_loader.load_photometry_data(eid, signal='GCaMP')\n",
    "trials = data_loader.load_trials_table(eid)"
   ]
  },
  {
   "cell_type": "code",
   "execution_count": null,
   "metadata": {},
   "outputs": [],
   "source": [
    "from iblphotometry.outlier_detection import remove_spikes\n",
    "from iblphotometry.bleach_corrections import lowpass_bleachcorrect\n",
    "from iblphotometry.sliding_operations import sliding_mad\n",
    "from iblphotometry.pipelines import run_pipeline\n",
    "\n",
    "pipeline = [\n",
    "      (remove_spikes, dict(sd=5)),\n",
    "      (lowpass_bleachcorrect, dict(correction_method='subtract-divide',\n",
    "                                   filter_params=dict(N=3, Wn=0.01, btype='lowpass'))),\n",
    "      (sliding_mad, dict(w_len=120,overlap=90)),\n",
    "]\n",
    "\n",
    "# run pipeline\n",
    "photometry = run_pipeline(raw_photometry, pipeline, on_columns=True)\n",
    "data_loader.get_mappable(eid)\n",
    "# photometry\n"
   ]
  },
  {
   "cell_type": "code",
   "execution_count": null,
   "metadata": {},
   "outputs": [],
   "source": [
    "# view a short snippet\n",
    "interval = nap.IntervalSet(start=10, end=20)\n",
    "plots.plot_TsdFrame(photometry.restrict(interval))"
   ]
  },
  {
   "cell_type": "code",
   "execution_count": null,
   "metadata": {},
   "outputs": [],
   "source": [
    "# plot psths\n",
    "region = 'Region0G'\n",
    "plots.plot_psth(photometry[region], trials, event='feedback_times', split_by='choice')"
   ]
  }
 ],
 "metadata": {
  "kernelspec": {
   "display_name": "ibl",
   "language": "python",
   "name": "python3"
  },
  "language_info": {
   "codemirror_mode": {
    "name": "ipython",
    "version": 3
   },
   "file_extension": ".py",
   "mimetype": "text/x-python",
   "name": "python",
   "nbconvert_exporter": "python",
   "pygments_lexer": "ipython3",
   "version": "3.12.7"
  }
 },
 "nbformat": 4,
 "nbformat_minor": 2
}
