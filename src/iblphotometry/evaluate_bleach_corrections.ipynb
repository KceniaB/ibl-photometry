{
 "cells": [
  {
   "cell_type": "markdown",
   "metadata": {},
   "source": [
    "# Bleach corrections evaluation\n",
    "this notebook evaluate different bleach correction methods\n",
    "- single exponential fit\n",
    "- double exponential fit\n",
    "- different regressions (robust)"
   ]
  },
  {
   "cell_type": "code",
   "execution_count": 5,
   "metadata": {},
   "outputs": [],
   "source": [
    "import sys\n",
    "\n",
    "import numpy as np\n",
    "import pandas as pd\n",
    "import matplotlib.pyplot as plt\n",
    "from pathlib import Path\n",
    "import preprocessing\n",
    "import pynapple as nap\n",
    "import seaborn as sns\n",
    "\n",
    "from utils import * # don't \n",
    "\n",
    "from one.api import ONE\n",
    "\n",
    "# one = ONE(base_url=\"https://alyx.internationalbrainlab.org\")\n",
    "one_dir = Path(\"/mnt/h0/kb/data/one\")\n",
    "one = ONE(cache_dir=one_dir)"
   ]
  },
  {
   "cell_type": "code",
   "execution_count": 6,
   "metadata": {},
   "outputs": [],
   "source": [
    "import matplotlib as mpl\n",
    "mpl.rcParams['figure.dpi'] = 166\n",
    "\n",
    "%load_ext autoreload\n",
    "%autoreload 2"
   ]
  },
  {
   "cell_type": "code",
   "execution_count": 38,
   "metadata": {},
   "outputs": [],
   "source": [
    "# select and load dataset\n",
    "eid = \"d2c9b9c1-28e1-47db-a165-54f822ba6c30\" # current working example\n",
    "\n",
    "eid = \"67231166-8980-4146-ad6d-3d7bee327ccf\" # double expon\n",
    "# eid = \"8481a1f4-464a-4ae4-bdd0-f9ac13afa053\" # current debug"
   ]
  },
  {
   "cell_type": "code",
   "execution_count": null,
   "metadata": {},
   "outputs": [],
   "source": [
    "# load dataset\n",
    "trials = one.load_dataset(eid, \"*trials.table.pqt\")\n",
    "\n",
    "session_path = one.eid2path(eid)\n",
    "regions = [reg.name for reg in session_path.joinpath('alf').glob('Region*')]\n",
    "\n",
    "if len(regions) > 1:\n",
    "    print(f\"more than one regions found: {regions}\")\n",
    "\n",
    "pqt_path = session_path / 'alf' / regions[0] / 'raw_photometry.pqt'\n",
    "\n",
    "raw_photometry = pd.read_parquet(pqt_path)\n",
    "\n",
    "# convert to Tsd\n",
    "raw_photometry = nap.TsdFrame(raw_photometry.set_index(\"times\"))\n",
    "\n",
    "# restricting the fluorescence data to the time within the task +-1s\n",
    "t_start = trials.iloc[0][\"intervals_0\"] - 10\n",
    "t_stop = trials.iloc[-1][\"intervals_1\"] + 10\n",
    "session_interval = nap.IntervalSet(t_start, t_stop)\n",
    "raw_photometry = raw_photometry.restrict(session_interval)"
   ]
  },
  {
   "cell_type": "code",
   "execution_count": 287,
   "metadata": {},
   "outputs": [
    {
     "data": {
      "text/plain": [
       "[<matplotlib.lines.Line2D at 0x7eff4cb89350>]"
      ]
     },
     "execution_count": 287,
     "metadata": {},
     "output_type": "execute_result"
    }
   ],
   "source": [
    "from bleach_corrections import BleachCorrection, DoubleExponDecayT\n",
    "F = raw_photometry['raw_calcium']\n",
    "bleach_correction = BleachCorrection(model=DoubleExponDecay(),\n",
    "                                     regression_method='linear',\n",
    "                                     correction_method='subtract-divide')\n",
    "bleach_correction.correct(F)\n",
    "\n",
    "F_ref = bleach_correction.regression.predict(F.times(), return_type='pynapple')\n",
    "F_corr = bleach_correction.correct(F)\n",
    "fig, axes = plt.subplots()\n",
    "axes.plot(F)\n",
    "axes.plot(F_ref)"
   ]
  },
  {
   "cell_type": "code",
   "execution_count": 294,
   "metadata": {},
   "outputs": [
    {
     "data": {
      "text/plain": [
       "<matplotlib.legend.Legend at 0x7eff54a66750>"
      ]
     },
     "execution_count": 294,
     "metadata": {},
     "output_type": "execute_result"
    }
   ],
   "source": [
    "from bleach_corrections import IsosbesticCorrection, DoubleExponDecayT\n",
    "fig, axes = plt.subplots()\n",
    "for reg_method in ['linear','huber','irls']:\n",
    "    isosbestic_correction = IsosbesticCorrection(\n",
    "        regression_method=reg_method,\n",
    "        correction_method='subtract-divide',\n",
    "        lowpass_isosbestic=dict(N=3, Wn=0.01)\n",
    "        )\n",
    "    # pre bleach correct\n",
    "    bc = BleachCorrection(DoubleExponDecay(), regression_method = 'irls', correction_method = 'subtract-divide')\n",
    "    F_ca = bc.correct(raw_photometry['raw_calcium']) + 1\n",
    "    F_iso = bc.correct(raw_photometry['raw_isosbestic']) + 1\n",
    "    \n",
    "    F_corr = isosbestic_correction.correct(F_ca, F_iso)\n",
    "    axes.plot(F_corr, label=reg_method, lw=0.5, alpha=1.0)\n",
    "axes.legend()"
   ]
  },
  {
   "cell_type": "code",
   "execution_count": null,
   "metadata": {},
   "outputs": [],
   "source": []
  },
  {
   "cell_type": "code",
   "execution_count": 263,
   "metadata": {},
   "outputs": [
    {
     "name": "stderr",
     "output_type": "stream",
     "text": [
      "/home/georg/code/ibl-photometry/src/iblphotometry/bleach_corrections.py:146: RuntimeWarning: divide by zero encountered in divide\n",
      "  return A1 * np.exp(-t / tau1) + A2 * np.exp(-t / tau2) + b\n",
      "/home/georg/code/ibl-photometry/src/iblphotometry/bleach_corrections.py:146: RuntimeWarning: invalid value encountered in multiply\n",
      "  return A1 * np.exp(-t / tau1) + A2 * np.exp(-t / tau2) + b\n"
     ]
    },
    {
     "data": {
      "text/plain": [
       "[<matplotlib.lines.Line2D at 0x7eff53768290>]"
      ]
     },
     "execution_count": 263,
     "metadata": {},
     "output_type": "execute_result"
    }
   ],
   "source": [
    "bc = BleachCorrection(DoubleExponDecay(), regression_method = 'huber', correction_method = 'subtract-divide')\n",
    "F_ca = bc.correct(raw_photometry['raw_calcium']) + 5\n",
    "fig, axes = plt.subplots()\n",
    "axes.plot(F_ca)"
   ]
  }
 ],
 "metadata": {
  "kernelspec": {
   "display_name": "ibl",
   "language": "python",
   "name": "python3"
  },
  "language_info": {
   "codemirror_mode": {
    "name": "ipython",
    "version": 3
   },
   "file_extension": ".py",
   "mimetype": "text/x-python",
   "name": "python",
   "nbconvert_exporter": "python",
   "pygments_lexer": "ipython3",
   "version": "3.11.8"
  }
 },
 "nbformat": 4,
 "nbformat_minor": 2
}
