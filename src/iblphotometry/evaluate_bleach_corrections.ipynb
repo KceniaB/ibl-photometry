{
 "cells": [
  {
   "cell_type": "markdown",
   "metadata": {},
   "source": [
    "# Bleach corrections evaluation\n",
    "this notebook evaluate different bleach correction methods\n",
    "- single exponential fit\n",
    "- double exponential fit\n",
    "- different regressions (robust)"
   ]
  },
  {
   "cell_type": "code",
   "execution_count": 1,
   "metadata": {},
   "outputs": [],
   "source": [
    "from pathlib import Path\n",
    "\n",
    "import numpy as np\n",
    "import pandas as pd\n",
    "import pynapple as nap\n",
    "\n",
    "import matplotlib.pyplot as plt\n",
    "\n",
    "import iblphotometry.preprocessing\n",
    "\n",
    "from utils import * # don't\n",
    "\n",
    "from one.api import ONE\n",
    "\n",
    "one = ONE(base_url=\"https://alyx.internationalbrainlab.org\", mode='remote')"
   ]
  },
  {
   "cell_type": "code",
   "execution_count": 2,
   "metadata": {},
   "outputs": [],
   "source": [
    "import matplotlib as mpl\n",
    "mpl.rcParams['figure.dpi'] = 166\n",
    "\n",
    "%load_ext autoreload\n",
    "%autoreload 2"
   ]
  },
  {
   "cell_type": "code",
   "execution_count": 3,
   "metadata": {},
   "outputs": [
    {
     "name": "stderr",
     "output_type": "stream",
     "text": [
      "/home/georg/anaconda3/envs/ibl/lib/python3.11/site-packages/one/api.py:300: FutureWarning: Setting an item of incompatible dtype is deprecated and will raise an error in a future version of pandas. Value '[nan nan nan nan nan nan nan nan nan nan nan nan nan nan nan nan nan nan\n",
      " nan nan nan nan nan nan nan]' has dtype incompatible with bool, please explicitly cast to a compatible dtype first.\n",
      "  self._cache[table].loc[records.index[to_update], :] = records[to_update]\n",
      "/home/georg/anaconda3/envs/ibl/lib/python3.11/site-packages/one/api.py:300: FutureWarning: Setting an item of incompatible dtype is deprecated and will raise an error in a future version of pandas. Value '[nan nan nan nan nan nan nan nan nan nan nan nan nan nan nan nan nan nan\n",
      " nan nan nan nan nan nan nan]' has dtype incompatible with bool, please explicitly cast to a compatible dtype first.\n",
      "  self._cache[table].loc[records.index[to_update], :] = records[to_update]\n"
     ]
    }
   ],
   "source": [
    "# select and load dataset\n",
    "eid = \"974a8a32-2156-4250-b9db-4298fc8daa65\"\n",
    "data_path = Path(\"/home/georg/data_local/raw_photometry_NE.pqt\")\n",
    "trials = one.load_dataset(eid, \"alf/task_00/_ibl_trials.table.pqt\")\n",
    "\n",
    "# load trial data\n",
    "raw_photometry = pd.read_parquet(data_path)\n",
    "raw_photometry = nap.TsdFrame(raw_photometry.set_index(\"times\"))\n",
    "\n",
    "# restricting the fluorescence data to the time within the task +-1s\n",
    "t_start = trials.iloc[0][\"intervals_0\"] - 1\n",
    "t_stop = trials.iloc[-1][\"intervals_1\"] + 1\n",
    "\n",
    "session_interval = nap.IntervalSet(t_start, t_stop)\n",
    "raw_photometry = raw_photometry.restrict(session_interval)\n",
    "\n"
   ]
  },
  {
   "cell_type": "code",
   "execution_count": 44,
   "metadata": {},
   "outputs": [
    {
     "data": {
      "text/plain": [
       "[<matplotlib.lines.Line2D at 0x7fb4317a4f10>]"
      ]
     },
     "execution_count": 44,
     "metadata": {},
     "output_type": "execute_result"
    }
   ],
   "source": [
    "F = raw_photometry['raw_calcium']\n",
    "y, t = F.values, F.times()\n",
    "\n",
    "from bleach_corrections import ExponDecayBleachingModel, DoubleExponDecayBleachingModel\n",
    "\n",
    "bleaching_model = ExponDecayBleachingModel(method='L-BFGS-B')\n",
    "bleaching_model._fit(y, t)\n",
    "y_hat = bleaching_model._predict(t)\n",
    "\n",
    "fig, axes = plt.subplots()\n",
    "axes.plot(F)\n",
    "axes.plot(t, y_hat)\n",
    "\n",
    "# print(bleaching_model.calc_model_stats(F, use_kde=False, n_samples=-1))\n",
    "\n"
   ]
  },
  {
   "cell_type": "code",
   "execution_count": 25,
   "metadata": {},
   "outputs": [
    {
     "data": {
      "text/plain": [
       "[<matplotlib.lines.Line2D at 0x7fb436ce3e10>]"
      ]
     },
     "execution_count": 25,
     "metadata": {},
     "output_type": "execute_result"
    }
   ],
   "source": [
    "fig, axes = plt.subplots()\n",
    "axes.plot(t, F.values - y_hat,lw=1)\n",
    "ax = plt.twinx(axes)\n",
    "ax.plot(t, (F.values - y_hat)/y_hat, lw=1, color='r', alpha=0.5)"
   ]
  },
  {
   "cell_type": "code",
   "execution_count": 46,
   "metadata": {},
   "outputs": [
    {
     "data": {
      "text/plain": [
       "[<matplotlib.lines.Line2D at 0x7fb4321281d0>]"
      ]
     },
     "execution_count": 46,
     "metadata": {},
     "output_type": "execute_result"
    }
   ],
   "source": [
    "from iblphotometry import utils\n",
    "F = raw_photometry['raw_calcium']\n",
    "F = nap.Tsd(t=F.times(), d=F.values / F[-1])\n",
    "plt.plot(F)\n"
   ]
  },
  {
   "cell_type": "code",
   "execution_count": 48,
   "metadata": {},
   "outputs": [
    {
     "name": "stdout",
     "output_type": "stream",
     "text": [
      "[4.73352749e-03 1.72255065e+03 4.70016832e-03 8.61275407e+02\n",
      " 9.99980080e-01 2.23509706e-04]\n"
     ]
    },
    {
     "data": {
      "text/plain": [
       "[<matplotlib.lines.Line2D at 0x7fb43104c110>]"
      ]
     },
     "execution_count": 48,
     "metadata": {},
     "output_type": "execute_result"
    }
   ],
   "source": [
    "\n",
    "\n",
    "bleaching_model = DoubleExponDecayBleachingModel()\n",
    "F_corr = bleaching_model.bleach_correct(F, mode='divide')\n",
    "fig, axes = plt.subplots()\n",
    "axes.plot(F_corr, lw=0.5, alpha=0.5, color='g')\n",
    "print(bleaching_model.popt)\n",
    "\n",
    "bleaching_model = DoubleExponDecayBleachingModel()\n",
    "F_corr = bleaching_model.bleach_correct(F, mode='subtract')\n",
    "ax = plt.twinx(axes)\n",
    "ax.plot(F_corr, lw=0.5, alpha=0.5, color='r')\n",
    "\n",
    "\n"
   ]
  },
  {
   "cell_type": "code",
   "execution_count": 34,
   "metadata": {},
   "outputs": [
    {
     "data": {
      "text/plain": [
       "Time (s)\n",
       "--------------  ----------\n",
       "3.635966979     0.00397687\n",
       "3.66927832      0.0039671\n",
       "3.702621661     0.00396951\n",
       "3.735965001     0.00397281\n",
       "3.769276343     0.00397103\n",
       "3.802619683     0.00396723\n",
       "3.835931025     0.003969\n",
       "...\n",
       "5160.147930698  0.00393235\n",
       "5160.181274038  0.00393387\n",
       "5160.21458538   0.00393336\n",
       "5160.247928721  0.00393374\n",
       "5160.281272061  0.00393552\n",
       "5160.314583403  0.00393412\n",
       "5160.347926743  0.00393159\n",
       "dtype: float64, shape: (154710,)"
      ]
     },
     "execution_count": 34,
     "metadata": {},
     "output_type": "execute_result"
    }
   ],
   "source": [
    "from iblphotometry import utils\n",
    "F = raw_photometry['raw_calcium']\n",
    "F"
   ]
  },
  {
   "cell_type": "code",
   "execution_count": null,
   "metadata": {},
   "outputs": [],
   "source": [
    "\n",
    "# bleaching_model = DoubleExponDecayBleachingModel()\n",
    "# _ = bleaching_model.bleach_correct(F)\n",
    "# print(bleaching_model.calc_model_stats(F, use_kde=False, n_samples=-1))"
   ]
  },
  {
   "cell_type": "code",
   "execution_count": null,
   "metadata": {},
   "outputs": [],
   "source": []
  }
 ],
 "metadata": {
  "kernelspec": {
   "display_name": "ibl",
   "language": "python",
   "name": "python3"
  },
  "language_info": {
   "codemirror_mode": {
    "name": "ipython",
    "version": 3
   },
   "file_extension": ".py",
   "mimetype": "text/x-python",
   "name": "python",
   "nbconvert_exporter": "python",
   "pygments_lexer": "ipython3",
   "version": "3.11.8"
  }
 },
 "nbformat": 4,
 "nbformat_minor": 2
}
