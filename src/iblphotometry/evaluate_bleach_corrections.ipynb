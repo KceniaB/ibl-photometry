{
 "cells": [
  {
   "cell_type": "markdown",
   "metadata": {},
   "source": [
    "# Bleach corrections evaluation\n",
    "this notebook evaluate different bleach correction methods\n",
    "- single exponential fit\n",
    "- double exponential fit\n",
    "- different regressions (robust)"
   ]
  },
  {
   "cell_type": "code",
   "execution_count": 2,
   "metadata": {},
   "outputs": [],
   "source": [
    "from pathlib import Path\n",
    "\n",
    "import numpy as np\n",
    "import pandas as pd\n",
    "import pynapple as nap\n",
    "\n",
    "import matplotlib.pyplot as plt\n",
    "\n",
    "import iblphotometry.preprocessing\n",
    "import iblphotometry.plots\n",
    "\n",
    "from utils import * # don't\n",
    "\n",
    "from one.api import ONE\n",
    "\n",
    "one = ONE(base_url=\"https://alyx.internationalbrainlab.org\", mode='remote')"
   ]
  },
  {
   "cell_type": "code",
   "execution_count": 3,
   "metadata": {},
   "outputs": [],
   "source": [
    "import matplotlib as mpl\n",
    "mpl.rcParams['figure.dpi'] = 166\n",
    "\n",
    "%load_ext autoreload\n",
    "%autoreload 2"
   ]
  },
  {
   "cell_type": "code",
   "execution_count": 4,
   "metadata": {},
   "outputs": [
    {
     "name": "stderr",
     "output_type": "stream",
     "text": [
      "/home/georg/anaconda3/envs/ibl/lib/python3.11/site-packages/one/api.py:300: FutureWarning: Setting an item of incompatible dtype is deprecated and will raise an error in a future version of pandas. Value '[nan nan nan nan nan nan nan nan nan nan nan nan nan nan nan nan nan nan\n",
      " nan nan nan nan nan nan nan]' has dtype incompatible with bool, please explicitly cast to a compatible dtype first.\n",
      "  self._cache[table].loc[records.index[to_update], :] = records[to_update]\n",
      "/home/georg/anaconda3/envs/ibl/lib/python3.11/site-packages/one/api.py:300: FutureWarning: Setting an item of incompatible dtype is deprecated and will raise an error in a future version of pandas. Value '[nan nan nan nan nan nan nan nan nan nan nan nan nan nan nan nan nan nan\n",
      " nan nan nan nan nan nan nan]' has dtype incompatible with bool, please explicitly cast to a compatible dtype first.\n",
      "  self._cache[table].loc[records.index[to_update], :] = records[to_update]\n"
     ]
    }
   ],
   "source": [
    "# select and load dataset\n",
    "eid = \"974a8a32-2156-4250-b9db-4298fc8daa65\"\n",
    "data_path = Path(\"/home/georg/data_local/raw_photometry_NE.pqt\")\n",
    "trials = one.load_dataset(eid, \"alf/task_00/_ibl_trials.table.pqt\")\n",
    "\n",
    "# load trial data\n",
    "raw_photometry = pd.read_parquet(data_path)\n",
    "raw_photometry = nap.TsdFrame(raw_photometry.set_index(\"times\"))\n",
    "\n",
    "# restricting the fluorescence data to the time within the task +-1s\n",
    "t_start = trials.iloc[0][\"intervals_0\"] - 1\n",
    "t_stop = trials.iloc[-1][\"intervals_1\"] + 1\n",
    "\n",
    "session_interval = nap.IntervalSet(t_start, t_stop)\n",
    "raw_photometry = raw_photometry.restrict(session_interval)\n",
    "\n"
   ]
  },
  {
   "cell_type": "code",
   "execution_count": 5,
   "metadata": {},
   "outputs": [
    {
     "name": "stdout",
     "output_type": "stream",
     "text": [
      "{'r_sq': 0.9062994760670376, 'll': 1754190.8926128924, 'aic': -20.755036557449927}\n"
     ]
    }
   ],
   "source": [
    "F = raw_photometry['raw_calcium']\n",
    "y, t = F.values, F.times()\n",
    "\n",
    "from bleach_corrections import ExponDecayBleachingModel, DoubleExponDecayBleachingModel\n",
    "\n",
    "bleaching_model = ExponDecayBleachingModel(method='L-BFGS-B')\n",
    "F_corr = bleaching_model.bleach_correct(F)\n",
    "# fig, axes = plt.subplots()\n",
    "# axes.plot(F)\n",
    "\n",
    "print(bleaching_model.calc_model_stats(F, use_kde=False, n_samples=-1))\n",
    "\n"
   ]
  },
  {
   "cell_type": "code",
   "execution_count": 12,
   "metadata": {},
   "outputs": [
    {
     "name": "stdout",
     "output_type": "stream",
     "text": [
      "[1.86637126e-05 1.72255059e+03 1.84283267e-05 8.61275294e+02\n",
      " 3.93149613e-03 3.45163820e-09]\n"
     ]
    },
    {
     "name": "stderr",
     "output_type": "stream",
     "text": [
      "libGL error: MESA-LOADER: failed to open iris: /usr/lib/dri/iris_dri.so: cannot open shared object file: No such file or directory (search paths /usr/lib/x86_64-linux-gnu/dri:\\$${ORIGIN}/dri:/usr/lib/dri, suffix _dri)\n",
      "libGL error: failed to load driver: iris\n",
      "libGL error: MESA-LOADER: failed to open iris: /usr/lib/dri/iris_dri.so: cannot open shared object file: No such file or directory (search paths /usr/lib/x86_64-linux-gnu/dri:\\$${ORIGIN}/dri:/usr/lib/dri, suffix _dri)\n",
      "libGL error: failed to load driver: iris\n",
      "libGL error: MESA-LOADER: failed to open swrast: /usr/lib/dri/swrast_dri.so: cannot open shared object file: No such file or directory (search paths /usr/lib/x86_64-linux-gnu/dri:\\$${ORIGIN}/dri:/usr/lib/dri, suffix _dri)\n",
      "libGL error: failed to load driver: swrast\n"
     ]
    }
   ],
   "source": [
    "%matplotlib qt5\n",
    "bleaching_model = DoubleExponDecayBleachingModel()\n",
    "F_corr = bleaching_model.bleach_correct(F)\n",
    "fig, axes = plt.subplots()\n",
    "axes.plot(F_corr, lw=0.5, alpha=0.5, color='g')\n",
    "print(bleaching_model.popt)\n",
    "# bleaching_model = DoubleExponDecayBleachingModel()\n",
    "# F_corr = bleaching_model.bleach_correct_logspace(F)\n",
    "# ax = plt.twinx(axes)\n",
    "# ax.plot(F_corr, lw=0.5, alpha=0.5, color='r')\n",
    "\n"
   ]
  },
  {
   "cell_type": "code",
   "execution_count": 21,
   "metadata": {},
   "outputs": [],
   "source": []
  },
  {
   "cell_type": "code",
   "execution_count": null,
   "metadata": {},
   "outputs": [],
   "source": [
    "\n",
    "# bleaching_model = DoubleExponDecayBleachingModel()\n",
    "# _ = bleaching_model.bleach_correct(F)\n",
    "# print(bleaching_model.calc_model_stats(F, use_kde=False, n_samples=-1))"
   ]
  },
  {
   "cell_type": "code",
   "execution_count": null,
   "metadata": {},
   "outputs": [],
   "source": []
  }
 ],
 "metadata": {
  "kernelspec": {
   "display_name": "ibl",
   "language": "python",
   "name": "python3"
  },
  "language_info": {
   "codemirror_mode": {
    "name": "ipython",
    "version": 3
   },
   "file_extension": ".py",
   "mimetype": "text/x-python",
   "name": "python",
   "nbconvert_exporter": "python",
   "pygments_lexer": "ipython3",
   "version": "3.11.8"
  }
 },
 "nbformat": 4,
 "nbformat_minor": 2
}
