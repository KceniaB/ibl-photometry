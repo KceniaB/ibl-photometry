{
 "cells": [
  {
   "cell_type": "markdown",
   "metadata": {},
   "source": [
    "### Evaluating grubbs test for outliers to remove spikes"
   ]
  },
  {
   "cell_type": "code",
   "execution_count": 1,
   "metadata": {},
   "outputs": [],
   "source": [
    "import matplotlib as mpl\n",
    "mpl.rcParams['figure.dpi'] = 166\n",
    "%matplotlib qt5\n",
    "\n",
    "%load_ext autoreload\n",
    "%autoreload 2"
   ]
  },
  {
   "cell_type": "code",
   "execution_count": 2,
   "metadata": {},
   "outputs": [],
   "source": [
    "from pathlib import Path\n",
    "\n",
    "import numpy as np\n",
    "import pandas as pd\n",
    "import pynapple as nap\n",
    "\n",
    "import matplotlib.pyplot as plt\n",
    "\n"
   ]
  },
  {
   "cell_type": "markdown",
   "metadata": {},
   "source": [
    "#### synthetic data - numpy arrays"
   ]
  },
  {
   "cell_type": "code",
   "execution_count": 3,
   "metadata": {},
   "outputs": [
    {
     "data": {
      "text/plain": [
       "False"
      ]
     },
     "execution_count": 3,
     "metadata": {},
     "output_type": "execute_result"
    }
   ],
   "source": [
    "from outlier_detection import grubbs_single\n",
    "N = 10000\n",
    "t = np.linspace(0,100,N)\n",
    "y = np.random.randn(N)\n",
    "params = dict(mode='classic', alpha=0.05)\n",
    "# control run\n",
    "grubbs_single(y, **params)"
   ]
  },
  {
   "cell_type": "markdown",
   "metadata": {},
   "source": [
    "### synthetic fluorescence data"
   ]
  },
  {
   "cell_type": "code",
   "execution_count": 12,
   "metadata": {},
   "outputs": [
    {
     "name": "stderr",
     "output_type": "stream",
     "text": [
      "/home/georg/code/ibl-photometry/src/iblphotometry/synthetic.py:20: DeprecationWarning: scipy.signal.ricker is deprecated in SciPy 1.12 and will be removed\n",
      "in SciPy 1.15. We recommend using PyWavelets instead.\n",
      "\n",
      "  ric = scipy.signal.ricker(int(fs * 4), 8)\n"
     ]
    },
    {
     "data": {
      "text/plain": [
       "[<matplotlib.lines.Line2D at 0x7fcdcd485910>]"
      ]
     },
     "execution_count": 12,
     "metadata": {},
     "output_type": "execute_result"
    }
   ],
   "source": [
    "import iblphotometry.preprocessing\n",
    "import iblphotometry.synthetic\n",
    "\n",
    "df, times = iblphotometry.synthetic.synthetic101(30, 1000, 0.1)\n",
    "F = df['raw_calcium'].values\n",
    "F = F + np.random.randn(F.shape[0]) * 0.1\n",
    "\n",
    "# random injection of N noise spikes of random lengths\n",
    "N = np.random.randint(0, 100) # random number of spikes\n",
    "inds = np.random.randint(0, F.shape[0], N) # at random locations\n",
    "L = np.random.randint(1, 10, size=N) # of random lengths\n",
    "sig = 2\n",
    "\n",
    "# inserting\n",
    "for i, (ix, l) in enumerate(zip(inds,L)):\n",
    "    sign = np.array([-1,1])[np.random.randint(2)]\n",
    "    F[ix:ix+l] += np.random.rand()+1 * sig * sign\n",
    "\n",
    "# nap\n",
    "F = nap.Tsd(t=df['times'].values, d=F)\n",
    "fig, axes = plt.subplots()\n",
    "axes.plot(F,lw=0.5)\n"
   ]
  },
  {
   "cell_type": "code",
   "execution_count": 15,
   "metadata": {},
   "outputs": [
    {
     "data": {
      "text/plain": [
       "[<matplotlib.lines.Line2D at 0x7fcdcd51c790>]"
      ]
     },
     "execution_count": 15,
     "metadata": {},
     "output_type": "execute_result"
    }
   ],
   "source": [
    "# run it\n",
    "from outlier_detection import remove_outliers\n",
    "params = dict(w_size=1000, alpha=0.05, w=25)\n",
    "F_or = remove_outliers(F, **params)\n",
    "fig, axes = plt.subplots()\n",
    "axes.plot(F, lw=2,color='r',)\n",
    "axes.plot(F_or, lw=1,color='k')"
   ]
  },
  {
   "cell_type": "markdown",
   "metadata": {},
   "source": [
    "### on real data"
   ]
  },
  {
   "cell_type": "code",
   "execution_count": null,
   "metadata": {},
   "outputs": [],
   "source": [
    "from utils import * # don't\n",
    "\n",
    "from one.api import ONE\n",
    "\n",
    "one = ONE(base_url=\"https://alyx.internationalbrainlab.org\")"
   ]
  }
 ],
 "metadata": {
  "kernelspec": {
   "display_name": "ibl",
   "language": "python",
   "name": "python3"
  },
  "language_info": {
   "codemirror_mode": {
    "name": "ipython",
    "version": 3
   },
   "file_extension": ".py",
   "mimetype": "text/x-python",
   "name": "python",
   "nbconvert_exporter": "python",
   "pygments_lexer": "ipython3",
   "version": "3.11.8"
  }
 },
 "nbformat": 4,
 "nbformat_minor": 2
}
